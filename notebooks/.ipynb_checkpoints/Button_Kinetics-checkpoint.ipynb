{
 "cells": [
  {
   "cell_type": "markdown",
   "metadata": {},
   "source": [
    "# ProcessingPack Notebook\n",
    "___\n",
    "#### Button Kinetics, 2019"
   ]
  },
  {
   "cell_type": "code",
   "execution_count": 2,
   "metadata": {},
   "outputs": [],
   "source": [
    "from processingpack import chip\n",
    "from processingpack import experiment as exp\n",
    "from processingpack import chipcollections as collections"
   ]
  },
  {
   "cell_type": "markdown",
   "metadata": {},
   "source": [
    "## 1. Instantiate the experiment"
   ]
  },
  {
   "cell_type": "code",
   "execution_count": null,
   "metadata": {},
   "outputs": [],
   "source": [
    "root = '/data-root'\n",
    "description = 'System_Scan_Conditions'\n",
    "operator = 'OperatorInitials'\n",
    "\n",
    "e = exp.Experiment(description, root, operator)"
   ]
  },
  {
   "cell_type": "code",
   "execution_count": null,
   "metadata": {},
   "outputs": [],
   "source": [
    "pinlist_path = '/pinlistpath.csv'\n",
    "pinlist = e.read_pinlist(pinlist_path)\n",
    "pinlist.head(5)"
   ]
  },
  {
   "cell_type": "markdown",
   "metadata": {},
   "source": [
    "## 2. Create device objects"
   ]
  },
  {
   "cell_type": "code",
   "execution_count": null,
   "metadata": {},
   "outputs": [],
   "source": [
    "d1_corners = ((590,522),(5949,527),(576,5957),(5935,5976))\n",
    "d1 = exp.Device('s4', 'd1', (28, 56), pinlist, d1_corners)\n",
    "\n",
    "# Add devices to experiment\n",
    "e.addDevices([d1])"
   ]
  },
  {
   "cell_type": "markdown",
   "metadata": {},
   "source": [
    "## 3. Execute button analyses"
   ]
  },
  {
   "cell_type": "markdown",
   "metadata": {},
   "source": [
    "### a. Process a button reference image"
   ]
  },
  {
   "cell_type": "markdown",
   "metadata": {},
   "source": [
    "##### Load"
   ]
  },
  {
   "cell_type": "code",
   "execution_count": null,
   "metadata": {},
   "outputs": [],
   "source": [
    "# Stitched image path\n",
    "p = '~/BGSubtracted_StitchedImg_500_4egfp_0.tif'\n",
    "\n",
    "# Prepare ChipQuant object\n",
    "d1_cMUP_GFPQuant = collections.ChipQuant(d1, 'ButtonReference')\n",
    "\n",
    "# Load image into memory\n",
    "d1_cMUP_GFPQuant.load_file(p, '4egfp', 500)"
   ]
  },
  {
   "cell_type": "markdown",
   "metadata": {},
   "source": [
    "##### Process"
   ]
  },
  {
   "cell_type": "code",
   "execution_count": null,
   "metadata": {},
   "outputs": [],
   "source": [
    "# Find buttons, extract intensity attributes\n",
    "d1_cMUP_GFPQuant.process()\n",
    "\n",
    "# Summarize attributes as a pandas dataframe\n",
    "quant_report = d1_cMUP_GFPQuant.summarize()"
   ]
  },
  {
   "cell_type": "markdown",
   "metadata": {},
   "source": [
    "##### Save Summary/Image"
   ]
  },
  {
   "cell_type": "code",
   "execution_count": null,
   "metadata": {},
   "outputs": [],
   "source": [
    "quant_report.to_csv('~/button_summary.csv')\n",
    "d1_cMUP_GFPQuant.save_summary_image()"
   ]
  },
  {
   "cell_type": "markdown",
   "metadata": {},
   "source": [
    "\n",
    "### b. Analyze a single button timecourse"
   ]
  },
  {
   "cell_type": "code",
   "execution_count": null,
   "metadata": {},
   "outputs": [],
   "source": []
  },
  {
   "cell_type": "markdown",
   "metadata": {},
   "source": [
    "### c. Analyze a collection of button timecourses"
   ]
  },
  {
   "cell_type": "code",
   "execution_count": null,
   "metadata": {},
   "outputs": [],
   "source": []
  }
 ],
 "metadata": {
  "kernelspec": {
   "display_name": "processingpack",
   "language": "python",
   "name": "processingpack"
  },
  "language_info": {
   "codemirror_mode": {
    "name": "ipython",
    "version": 3
   },
   "file_extension": ".py",
   "mimetype": "text/x-python",
   "name": "python",
   "nbconvert_exporter": "python",
   "pygments_lexer": "ipython3",
   "version": "3.7.4"
  }
 },
 "nbformat": 4,
 "nbformat_minor": 2
}
