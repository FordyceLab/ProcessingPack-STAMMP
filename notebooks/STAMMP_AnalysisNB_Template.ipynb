{
  "cells": [
    {
      "cell_type": "markdown",
      "source": [
        "# STAMMP Experimental Processing, Fordyce Lab\n",
        "## Standard Template\n",
        "___"
      ],
      "metadata": {}
    },
    {
      "cell_type": "code",
      "source": [
        "import sys\n",
        "\n",
        "sys.path.insert(0, '/Users/Arjun/ProcessingPack/processingpack-stammp/')"
      ],
      "outputs": [],
      "execution_count": 2,
      "metadata": {}
    },
    {
      "cell_type": "code",
      "source": [
        "import chip\n",
        "import experiment as exp\n",
        "import chipcollections as collections\n",
        "import skimage\n",
        "import numpy as np\n",
        "\n",
        "import pandas as pd\n",
        "import matplotlib.pyplot as pl\n",
        "%matplotlib inline\n",
        "%config InlineBackend.figure_format = 'svg'\n"
      ],
      "outputs": [],
      "execution_count": 3,
      "metadata": {}
    },
    {
      "cell_type": "code",
      "source": [
        "d = {'x':[],'y':[],'step':[],'id':[]}\n",
        "indexing_columns = pd.DataFrame(data=d);\n",
        "\n",
        "\n",
        "#create a small function that appends a unique index to all columns not considered an \"indexing\"\n",
        "#column\n",
        "\n",
        "def append_suffix(indexing_columns,df,suffix):\n",
        "    #indexing columns contains all the columns which have names which should NOT be changed\n",
        "    #df is where you want to append the suffix to the columns\n",
        "    #suffix, string of what you want to append\n",
        "    \n",
        "    result = df.copy();\n",
        "    \n",
        "    result.columns = np.where(result.columns.isin(indexing_columns)==False, result.columns +'_' + suffix, df.columns);\n",
        "    return result;"
      ],
      "outputs": [],
      "execution_count": 4,
      "metadata": {}
    },
    {
      "cell_type": "markdown",
      "source": [
        "## 1. Establish Experiment and Pinlist"
      ],
      "metadata": {}
    },
    {
      "cell_type": "code",
      "source": [
        "#insert descriptors of experiment\n",
        "#root: folder containing archive of experiment in storage source\n",
        "#description: description of experiment (date, protein, oligo)\n",
        "#operator: initials of person who ran experiment\n",
        "\n",
        "root = 'directory to experiment here'\n",
        "description = 'date_protein_oligo'\n",
        "operator = 'initials'\n",
        "\n",
        "e = exp.Experiment(description, root, operator)"
      ],
      "outputs": [
        {
          "output_type": "stream",
          "name": "stderr",
          "text": [
            "INFO     Experiment Initialized | Description: 190708_PHO4_CGCGTG, Operator: AA\n"
          ]
        }
      ],
      "execution_count": 5,
      "metadata": {}
    },
    {
      "cell_type": "code",
      "source": [
        "#identify pinlist directory and pull in for analysis\n",
        "pinlist_path = 'directory to pinlist file'\n",
        "\n",
        "pinlist = e.read_pinlist(pinlist_path)\n",
        "pinlist.head(5)"
      ],
      "outputs": [
        {
          "output_type": "execute_result",
          "execution_count": 6,
          "data": {
            "text/html": "<div>\n<style scoped>\n    .dataframe tbody tr th:only-of-type {\n        vertical-align: middle;\n    }\n\n    .dataframe tbody tr th {\n        vertical-align: top;\n    }\n\n    .dataframe thead th {\n        text-align: right;\n    }\n</style>\n<table border=\"1\" class=\"dataframe\">\n  <thead>\n    <tr style=\"text-align: right;\">\n      <th></th>\n      <th></th>\n      <th>Indices</th>\n      <th>MutantID</th>\n    </tr>\n    <tr>\n      <th>x</th>\n      <th>y</th>\n      <th></th>\n      <th></th>\n    </tr>\n  </thead>\n  <tbody>\n    <tr>\n      <th rowspan=\"5\" valign=\"top\">1</th>\n      <th>1</th>\n      <td>(1, 1)</td>\n      <td>Empty</td>\n    </tr>\n    <tr>\n      <th>2</th>\n      <td>(1, 2)</td>\n      <td>Empty</td>\n    </tr>\n    <tr>\n      <th>3</th>\n      <td>(1, 3)</td>\n      <td>Empty</td>\n    </tr>\n    <tr>\n      <th>4</th>\n      <td>(1, 4)</td>\n      <td>Empty</td>\n    </tr>\n    <tr>\n      <th>5</th>\n      <td>(1, 5)</td>\n      <td>Empty</td>\n    </tr>\n  </tbody>\n</table>\n</div>",
            "text/plain": "    Indices MutantID\nx y                 \n1 1  (1, 1)    Empty\n  2  (1, 2)    Empty\n  3  (1, 3)    Empty\n  4  (1, 4)    Empty\n  5  (1, 5)    Empty"
          },
          "metadata": {}
        }
      ],
      "execution_count": 6,
      "metadata": {}
    },
    {
      "cell_type": "code",
      "source": [
        "#sanity check for whole pinlist size--should be 1568 rows long (number of chambers in device)\n",
        "pinlist.shape"
      ],
      "outputs": [
        {
          "output_type": "execute_result",
          "execution_count": 7,
          "data": {
            "text/plain": "(1568, 2)"
          },
          "metadata": {}
        }
      ],
      "execution_count": 7,
      "metadata": {}
    },
    {
      "cell_type": "markdown",
      "source": [
        "## 2. Add Devices and Corners"
      ],
      "metadata": {}
    },
    {
      "cell_type": "code",
      "source": [
        "#add corners of the device--these corners mark the rough center positions of the corner button positions\n",
        "d1_corners = ((547,472), (5930,436), (575,5949), (5967,5916))\n",
        "d1 = exp.Device('s4', 'd1', (28, 56), pinlist, d1_corners)"
      ],
      "outputs": [],
      "execution_count": 8,
      "metadata": {}
    },
    {
      "cell_type": "code",
      "source": [
        "e.addDevices([d1])"
      ],
      "outputs": [
        {
          "output_type": "stream",
          "name": "stderr",
          "text": [
            "INFO     Added Device | Device: FordyceLab, s4, d1\n"
          ]
        }
      ],
      "execution_count": 9,
      "metadata": {
        "scrolled": true
      }
    },
    {
      "cell_type": "markdown",
      "source": [
        "## 3. Process Standard(s)"
      ],
      "metadata": {}
    },
    {
      "cell_type": "code",
      "source": [
        "# Create a standard series, load stitched images. Done with prewash DNA images in Cy5 channel\n",
        "\n",
        "p_d1 = 'directory to PrewashCy5 images folder'\n",
        "d1_cMU = collections.StandardSeries(d1, 'Note about experiment')\n",
        "\n",
        "#channel ('5cy5') below and exposure time (50 ms below) might vary based on experiment \n",
        "d1_cMU.load_files(p_d1, '5cy5', 50)"
      ],
      "outputs": [],
      "execution_count": 10,
      "metadata": {
        "scrolled": false
      }
    },
    {
      "cell_type": "code",
      "source": [
        "d1_cMU.process()\n",
        "d1_cMU.save_summary_images()\n",
        "d1_cMU.save_summary()"
      ],
      "outputs": [],
      "execution_count": 11,
      "metadata": {
        "scrolled": false
      }
    },
    {
      "cell_type": "markdown",
      "source": [
        "## S2. Process Reference Quantification(s)"
      ],
      "metadata": {}
    },
    {
      "cell_type": "markdown",
      "source": [
        "##### Load"
      ],
      "metadata": {}
    },
    {
      "cell_type": "code",
      "source": [
        "#load starting postwash GFP image to identify all spots of proteins in device\n",
        "\n",
        "#p= directory to sample image\n",
        "p = 'directory to sample GFP image'\n",
        "d1_GFPQuant = collections.ChipQuant(d1, 'ButtonQuant')\n",
        "\n",
        "d1_GFPQuant.load_file(p, '4egfp', 500)"
      ],
      "outputs": [],
      "execution_count": 12,
      "metadata": {}
    },
    {
      "cell_type": "markdown",
      "source": [
        "##### Process"
      ],
      "metadata": {}
    },
    {
      "cell_type": "code",
      "source": [
        "d1_GFPQuant.process()\n",
        "quant_report = d1_GFPQuant.summarize()\n",
        "d1_GFPQuant.save_summary_image()"
      ],
      "outputs": [],
      "execution_count": 13,
      "metadata": {
        "scrolled": true
      }
    },
    {
      "cell_type": "markdown",
      "source": [
        "## Process postwash Images"
      ],
      "metadata": {}
    },
    {
      "cell_type": "code",
      "source": [
        "#define new chip series for each postwash GFP and postwash Cy5\n",
        "cs_postwash_GFP = collections.ChipSeries(d1, 'postwash_images', 'step')\n",
        "\n",
        "cs_postwash_Cy5 = collections.ChipSeries(d1, 'postwash_images', 'step')\n"
      ],
      "outputs": [],
      "execution_count": 14,
      "metadata": {
        "scrolled": false
      }
    },
    {
      "cell_type": "code",
      "source": [
        "#load in root to postwash GFP images\n",
        "root = 'directory to folder of postwash GFP (TF) images'\n",
        "cs_postwash_GFP.load_files(root, '4egfp', 500)\n",
        "\n",
        "#load in root to postwash Cy5 images\n",
        "root = 'directory to folder of postwash Cy5 (DNA) images'\n",
        "cs_postwash_Cy5.load_files(root, '5Cy5', 3000)"
      ],
      "outputs": [],
      "execution_count": 15,
      "metadata": {}
    },
    {
      "cell_type": "code",
      "source": [
        "#use the GFP reference image to quantify all GFP and all Cy5 images\n",
        "\n",
        "#quant GFP\n",
        "cs_postwash_GFP.map_from(d1_GFPQuant.chip, mapto_args = {'features': 'button'})\n",
        "cs_postwash_GFP_df = cs_postwash_GFP.summarize()\n",
        "#save CSV to destination directory/filename\n",
        "cs_postwash_GFP_df.to_csv('')\n",
        "\n",
        "cs_postwash_GFP_df = cs_postwash_GFP.save_summary_images(featuretype = 'button')\n",
        "\n",
        "#quant Cy5\n",
        "cs_postwash_Cy5.map_from(d1_GFPQuant.chip, mapto_args = {'features': 'button'})\n",
        "cs_postwash_Cy5_df = cs_postwash_Cy5.summarize()\n",
        "#save CSV to destination directory/filename\n",
        "cs_postwash_Cy5_df.to_csv('')\n",
        "\n",
        "cs_postwash_Cy5_df = cs_postwash_Cy5.save_summary_images(featuretype = 'button')"
      ],
      "outputs": [],
      "execution_count": 16,
      "metadata": {}
    }
  ],
  "metadata": {
    "kernelspec": {
      "display_name": "Python 3",
      "language": "python",
      "name": "python3"
    },
    "language_info": {
      "codemirror_mode": {
        "name": "ipython",
        "version": 3
      },
      "file_extension": ".py",
      "mimetype": "text/x-python",
      "name": "python",
      "nbconvert_exporter": "python",
      "pygments_lexer": "ipython3",
      "version": "3.6.4"
    },
    "nteract": {
      "version": "0.25.0"
    }
  },
  "nbformat": 4,
  "nbformat_minor": 2
}